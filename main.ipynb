{
 "cells": [
  {
   "cell_type": "code",
   "execution_count": 3,
   "metadata": {},
   "outputs": [
    {
     "name": "stderr",
     "output_type": "stream",
     "text": [
      "Using TensorFlow backend.\n"
     ]
    }
   ],
   "source": [
    "import warnings\n",
    "warnings.filterwarnings('ignore')\n",
    "import numpy as np\n",
    "import pandas as pd\n",
    "from sklearn import preprocessing\n",
    "from sklearn.model_selection import KFold, cross_val_score, cross_val_predict, GridSearchCV\n",
    "from sklearn.tree import DecisionTreeClassifier\n",
    "from sklearn.linear_model import LogisticRegression, Perceptron, SGDClassifier\n",
    "from sklearn.neighbors import KNeighborsClassifier\n",
    "from sklearn.naive_bayes import GaussianNB\n",
    "from sklearn.svm import SVC, LinearSVC\n",
    "from sklearn.ensemble import RandomForestClassifier , GradientBoostingClassifier\n",
    "from sklearn.preprocessing import Imputer , Normalizer , scale, LabelEncoder, OneHotEncoder, MinMaxScaler\n",
    "from sklearn.model_selection import StratifiedKFold\n",
    "from sklearn.model_selection import train_test_split\n",
    "from sklearn.feature_selection import RFECV\n",
    "from sklearn.metrics import make_scorer, accuracy_score, classification_report, confusion_matrix, mean_squared_error\n",
    "import matplotlib as mpl\n",
    "import matplotlib.pyplot as plt\n",
    "import matplotlib.pylab as pylab\n",
    "import seaborn as sns\n",
    "from pandas import get_dummies\n",
    "import xgboost as xgb\n",
    "import scipy\n",
    "import math\n",
    "import json\n",
    "import sys\n",
    "import csv\n",
    "import os\n",
    "import tqdm\n",
    "import keras\n",
    "from keras.models import Sequential\n",
    "from keras.layers import Dense, LSTM, Dropout, GRU, Bidirectional\n",
    "from keras.optimizers import SGD\n",
    "from tqdm import tqdm_notebook"
   ]
  },
  {
   "cell_type": "code",
   "execution_count": 4,
   "metadata": {},
   "outputs": [],
   "source": [
    "def plot_predictions(test,predicted):\n",
    "    plt.plot(test, color='red',label='Real IBM Stock Price')\n",
    "    plt.plot(predicted, color='blue',label='Predicted IBM Stock Price')\n",
    "    plt.title('IBM Stock Price Prediction')\n",
    "    plt.xlabel('Time')\n",
    "    plt.ylabel('IBM Stock Price')\n",
    "    plt.legend()\n",
    "    plt.show()\n",
    "\n",
    "def return_rmse(test,predicted):\n",
    "    rmse = math.sqrt(mean_squared_error(test, predicted))\n",
    "    print(\"The root mean squared error is {}.\".format(rmse))"
   ]
  },
  {
   "cell_type": "code",
   "execution_count": 8,
   "metadata": {},
   "outputs": [],
   "source": [
    "dataset = pd.read_csv('./input/IBM_2006-01-01_to_2018-01-01.csv', index_col='Date', parse_dates=['Date'])"
   ]
  },
  {
   "cell_type": "code",
   "execution_count": 9,
   "metadata": {},
   "outputs": [
    {
     "data": {
      "text/html": [
       "<div>\n",
       "<style scoped>\n",
       "    .dataframe tbody tr th:only-of-type {\n",
       "        vertical-align: middle;\n",
       "    }\n",
       "\n",
       "    .dataframe tbody tr th {\n",
       "        vertical-align: top;\n",
       "    }\n",
       "\n",
       "    .dataframe thead th {\n",
       "        text-align: right;\n",
       "    }\n",
       "</style>\n",
       "<table border=\"1\" class=\"dataframe\">\n",
       "  <thead>\n",
       "    <tr style=\"text-align: right;\">\n",
       "      <th></th>\n",
       "      <th>Open</th>\n",
       "      <th>High</th>\n",
       "      <th>Low</th>\n",
       "      <th>Close</th>\n",
       "      <th>Volume</th>\n",
       "      <th>Name</th>\n",
       "    </tr>\n",
       "    <tr>\n",
       "      <th>Date</th>\n",
       "      <th></th>\n",
       "      <th></th>\n",
       "      <th></th>\n",
       "      <th></th>\n",
       "      <th></th>\n",
       "      <th></th>\n",
       "    </tr>\n",
       "  </thead>\n",
       "  <tbody>\n",
       "    <tr>\n",
       "      <th>2006-01-03</th>\n",
       "      <td>82.45</td>\n",
       "      <td>82.55</td>\n",
       "      <td>80.81</td>\n",
       "      <td>82.06</td>\n",
       "      <td>11715200</td>\n",
       "      <td>IBM</td>\n",
       "    </tr>\n",
       "    <tr>\n",
       "      <th>2006-01-04</th>\n",
       "      <td>82.20</td>\n",
       "      <td>82.50</td>\n",
       "      <td>81.33</td>\n",
       "      <td>81.95</td>\n",
       "      <td>9840600</td>\n",
       "      <td>IBM</td>\n",
       "    </tr>\n",
       "    <tr>\n",
       "      <th>2006-01-05</th>\n",
       "      <td>81.40</td>\n",
       "      <td>82.90</td>\n",
       "      <td>81.00</td>\n",
       "      <td>82.50</td>\n",
       "      <td>7213500</td>\n",
       "      <td>IBM</td>\n",
       "    </tr>\n",
       "    <tr>\n",
       "      <th>2006-01-06</th>\n",
       "      <td>83.95</td>\n",
       "      <td>85.03</td>\n",
       "      <td>83.41</td>\n",
       "      <td>84.95</td>\n",
       "      <td>8197400</td>\n",
       "      <td>IBM</td>\n",
       "    </tr>\n",
       "    <tr>\n",
       "      <th>2006-01-09</th>\n",
       "      <td>84.10</td>\n",
       "      <td>84.25</td>\n",
       "      <td>83.38</td>\n",
       "      <td>83.73</td>\n",
       "      <td>6858200</td>\n",
       "      <td>IBM</td>\n",
       "    </tr>\n",
       "  </tbody>\n",
       "</table>\n",
       "</div>"
      ],
      "text/plain": [
       "             Open   High    Low  Close    Volume Name\n",
       "Date                                                 \n",
       "2006-01-03  82.45  82.55  80.81  82.06  11715200  IBM\n",
       "2006-01-04  82.20  82.50  81.33  81.95   9840600  IBM\n",
       "2006-01-05  81.40  82.90  81.00  82.50   7213500  IBM\n",
       "2006-01-06  83.95  85.03  83.41  84.95   8197400  IBM\n",
       "2006-01-09  84.10  84.25  83.38  83.73   6858200  IBM"
      ]
     },
     "execution_count": 9,
     "metadata": {},
     "output_type": "execute_result"
    }
   ],
   "source": [
    "dataset.head()"
   ]
  },
  {
   "cell_type": "code",
   "execution_count": 10,
   "metadata": {},
   "outputs": [
    {
     "data": {
      "text/html": [
       "<div>\n",
       "<style scoped>\n",
       "    .dataframe tbody tr th:only-of-type {\n",
       "        vertical-align: middle;\n",
       "    }\n",
       "\n",
       "    .dataframe tbody tr th {\n",
       "        vertical-align: top;\n",
       "    }\n",
       "\n",
       "    .dataframe thead th {\n",
       "        text-align: right;\n",
       "    }\n",
       "</style>\n",
       "<table border=\"1\" class=\"dataframe\">\n",
       "  <thead>\n",
       "    <tr style=\"text-align: right;\">\n",
       "      <th></th>\n",
       "      <th>Open</th>\n",
       "      <th>High</th>\n",
       "      <th>Low</th>\n",
       "      <th>Close</th>\n",
       "      <th>Volume</th>\n",
       "    </tr>\n",
       "  </thead>\n",
       "  <tbody>\n",
       "    <tr>\n",
       "      <th>count</th>\n",
       "      <td>3019.000000</td>\n",
       "      <td>3020.000000</td>\n",
       "      <td>3019.000000</td>\n",
       "      <td>3020.000000</td>\n",
       "      <td>3.020000e+03</td>\n",
       "    </tr>\n",
       "    <tr>\n",
       "      <th>mean</th>\n",
       "      <td>145.515545</td>\n",
       "      <td>146.681738</td>\n",
       "      <td>144.471597</td>\n",
       "      <td>145.617278</td>\n",
       "      <td>5.773301e+06</td>\n",
       "    </tr>\n",
       "    <tr>\n",
       "      <th>std</th>\n",
       "      <td>37.554946</td>\n",
       "      <td>37.613446</td>\n",
       "      <td>37.477641</td>\n",
       "      <td>37.529387</td>\n",
       "      <td>3.192831e+06</td>\n",
       "    </tr>\n",
       "    <tr>\n",
       "      <th>min</th>\n",
       "      <td>72.740000</td>\n",
       "      <td>73.940000</td>\n",
       "      <td>69.500000</td>\n",
       "      <td>71.740000</td>\n",
       "      <td>2.542560e+05</td>\n",
       "    </tr>\n",
       "    <tr>\n",
       "      <th>25%</th>\n",
       "      <td>116.405000</td>\n",
       "      <td>117.765000</td>\n",
       "      <td>115.490000</td>\n",
       "      <td>116.525000</td>\n",
       "      <td>3.622681e+06</td>\n",
       "    </tr>\n",
       "    <tr>\n",
       "      <th>50%</th>\n",
       "      <td>149.610000</td>\n",
       "      <td>150.330000</td>\n",
       "      <td>148.470000</td>\n",
       "      <td>149.315000</td>\n",
       "      <td>4.928852e+06</td>\n",
       "    </tr>\n",
       "    <tr>\n",
       "      <th>75%</th>\n",
       "      <td>178.445000</td>\n",
       "      <td>179.762500</td>\n",
       "      <td>177.330000</td>\n",
       "      <td>178.685000</td>\n",
       "      <td>6.965014e+06</td>\n",
       "    </tr>\n",
       "    <tr>\n",
       "      <th>max</th>\n",
       "      <td>215.380000</td>\n",
       "      <td>215.900000</td>\n",
       "      <td>214.300000</td>\n",
       "      <td>215.800000</td>\n",
       "      <td>3.077428e+07</td>\n",
       "    </tr>\n",
       "  </tbody>\n",
       "</table>\n",
       "</div>"
      ],
      "text/plain": [
       "              Open         High          Low        Close        Volume\n",
       "count  3019.000000  3020.000000  3019.000000  3020.000000  3.020000e+03\n",
       "mean    145.515545   146.681738   144.471597   145.617278  5.773301e+06\n",
       "std      37.554946    37.613446    37.477641    37.529387  3.192831e+06\n",
       "min      72.740000    73.940000    69.500000    71.740000  2.542560e+05\n",
       "25%     116.405000   117.765000   115.490000   116.525000  3.622681e+06\n",
       "50%     149.610000   150.330000   148.470000   149.315000  4.928852e+06\n",
       "75%     178.445000   179.762500   177.330000   178.685000  6.965014e+06\n",
       "max     215.380000   215.900000   214.300000   215.800000  3.077428e+07"
      ]
     },
     "execution_count": 10,
     "metadata": {},
     "output_type": "execute_result"
    }
   ],
   "source": [
    "dataset.describe()"
   ]
  },
  {
   "cell_type": "code",
   "execution_count": 11,
   "metadata": {},
   "outputs": [
    {
     "name": "stdout",
     "output_type": "stream",
     "text": [
      "<class 'pandas.core.frame.DataFrame'>\n",
      "DatetimeIndex: 3020 entries, 2006-01-03 to 2017-12-29\n",
      "Data columns (total 6 columns):\n",
      "Open      3019 non-null float64\n",
      "High      3020 non-null float64\n",
      "Low       3019 non-null float64\n",
      "Close     3020 non-null float64\n",
      "Volume    3020 non-null int64\n",
      "Name      3020 non-null object\n",
      "dtypes: float64(4), int64(1), object(1)\n",
      "memory usage: 165.2+ KB\n"
     ]
    }
   ],
   "source": [
    "dataset.info()"
   ]
  },
  {
   "cell_type": "code",
   "execution_count": 13,
   "metadata": {},
   "outputs": [
    {
     "name": "stdout",
     "output_type": "stream",
     "text": [
      "Missing values per column:\n",
      "Open      1\n",
      "High      0\n",
      "Low       1\n",
      "Close     0\n",
      "Volume    0\n",
      "Name      0\n",
      "dtype: int64\n",
      "\n",
      "Missing values per row:\n",
      "Date\n",
      "2006-01-03    0\n",
      "2006-01-04    0\n",
      "2006-01-05    0\n",
      "2006-01-06    0\n",
      "2006-01-09    0\n",
      "dtype: int64\n"
     ]
    }
   ],
   "source": [
    "def num_missing(x):\n",
    "    return sum(x.isnull())\n",
    "\n",
    "print(\"Missing values per column:\")\n",
    "print(dataset.apply(num_missing, axis=0))\n",
    "\n",
    "print(\"\\nMissing values per row:\")\n",
    "print(dataset.apply(num_missing, axis=1).head())"
   ]
  },
  {
   "cell_type": "code",
   "execution_count": 16,
   "metadata": {},
   "outputs": [],
   "source": [
    "dataset['Open'].fillna((dataset['Open'].mean()), inplace=True)\n",
    "dataset['Low'].fillna((dataset['Low'].mean()), inplace=True)"
   ]
  },
  {
   "cell_type": "code",
   "execution_count": 17,
   "metadata": {},
   "outputs": [
    {
     "name": "stdout",
     "output_type": "stream",
     "text": [
      "Missing values per column:\n",
      "Open      0\n",
      "High      0\n",
      "Low       0\n",
      "Close     0\n",
      "Volume    0\n",
      "Name      0\n",
      "dtype: int64\n",
      "\n",
      "Missing values per row:\n",
      "Date\n",
      "2006-01-03    0\n",
      "2006-01-04    0\n",
      "2006-01-05    0\n",
      "2006-01-06    0\n",
      "2006-01-09    0\n",
      "dtype: int64\n"
     ]
    }
   ],
   "source": [
    "def num_missing(x):\n",
    "    return sum(x.isnull())\n",
    "\n",
    "print(\"Missing values per column:\")\n",
    "print(dataset.apply(num_missing, axis=0))\n",
    "\n",
    "print(\"\\nMissing values per row:\")\n",
    "print(dataset.apply(num_missing, axis=1).head())"
   ]
  },
  {
   "cell_type": "code",
   "execution_count": 18,
   "metadata": {},
   "outputs": [],
   "source": [
    "training_set = dataset[:'2016'].iloc[:,1:2].values\n",
    "test_set = dataset['2017':].iloc[:,1:2].values"
   ]
  },
  {
   "cell_type": "code",
   "execution_count": 21,
   "metadata": {},
   "outputs": [
    {
     "data": {
      "image/png": "[encoded data removed]",
      "text/plain": [
       "<Figure size 1152x288 with 1 Axes>"
      ]
     },
     "metadata": {
      "needs_background": "light"
     },
     "output_type": "display_data"
    }
   ],
   "source": [
    "dataset[\"High\"][:'2016'].plot(figsize=(16,4),legend=True)\n",
    "dataset[\"High\"]['2017':].plot(figsize=(16,4),legend=True)\n",
    "plt.legend(['Training set (Before 2017)','Test set (2017 and beyond)'])\n",
    "plt.title('IBM stock price')\n",
    "plt.show()"
   ]
  },
  {
   "cell_type": "code",
   "execution_count": 22,
   "metadata": {},
   "outputs": [],
   "source": [
    "sc = MinMaxScaler(feature_range=(0,1))\n",
    "training_set_scaled = sc.fit_transform(training_set)"
   ]
  },
  {
   "cell_type": "code",
   "execution_count": 23,
   "metadata": {},
   "outputs": [],
   "source": [
    "X_train = []\n",
    "y_train = []\n",
    "for i in range(60,2769):\n",
    "    X_train.append(training_set_scaled[i-60:i,0])\n",
    "    y_train.append(training_set_scaled[i,0])\n",
    "X_train, y_train = np.array(X_train), np.array(y_train)"
   ]
  },
  {
   "cell_type": "code",
   "execution_count": 24,
   "metadata": {},
   "outputs": [
    {
     "data": {
      "text/plain": [
       "(2709, 60)"
      ]
     },
     "execution_count": 24,
     "metadata": {},
     "output_type": "execute_result"
    }
   ],
   "source": [
    "X_train.shape"
   ]
  },
  {
   "cell_type": "code",
   "execution_count": 25,
   "metadata": {},
   "outputs": [
    {
     "data": {
      "text/plain": [
       "(2709,)"
      ]
     },
     "execution_count": 25,
     "metadata": {},
     "output_type": "execute_result"
    }
   ],
   "source": [
    "y_train.shape"
   ]
  },
  {
   "cell_type": "code",
   "execution_count": 26,
   "metadata": {},
   "outputs": [],
   "source": [
    "X_train = np.reshape(X_train, (X_train.shape[0],X_train.shape[1],1))"
   ]
  },
  {
   "cell_type": "code",
   "execution_count": 27,
   "metadata": {},
   "outputs": [
    {
     "data": {
      "text/plain": [
       "(2709, 60, 1)"
      ]
     },
     "execution_count": 27,
     "metadata": {},
     "output_type": "execute_result"
    }
   ],
   "source": [
    "X_train.shape"
   ]
  },
  {
   "cell_type": "code",
   "execution_count": 28,
   "metadata": {},
   "outputs": [
    {
     "name": "stdout",
     "output_type": "stream",
     "text": [
      "Epoch 1/50\n",
      "2709/2709 [==============================] - 17s 6ms/step - loss: 0.0262\n",
      "Epoch 2/50\n",
      "2709/2709 [==============================] - 14s 5ms/step - loss: 0.0113\n",
      "Epoch 3/50\n",
      "2709/2709 [==============================] - 14s 5ms/step - loss: 0.0084\n",
      "Epoch 4/50\n",
      "2709/2709 [==============================] - 14s 5ms/step - loss: 0.0075\n",
      "Epoch 5/50\n",
      "2709/2709 [==============================] - 14s 5ms/step - loss: 0.0061\n",
      "Epoch 6/50\n",
      "2709/2709 [==============================] - 14s 5ms/step - loss: 0.0056\n",
      "Epoch 7/50\n",
      "2709/2709 [==============================] - 14s 5ms/step - loss: 0.0053\n",
      "Epoch 8/50\n",
      "2709/2709 [==============================] - 14s 5ms/step - loss: 0.0048\n",
      "Epoch 9/50\n",
      "2709/2709 [==============================] - 14s 5ms/step - loss: 0.0043\n",
      "Epoch 10/50\n",
      "2709/2709 [==============================] - 14s 5ms/step - loss: 0.0040\n",
      "Epoch 11/50\n",
      "2709/2709 [==============================] - 14s 5ms/step - loss: 0.0038\n",
      "Epoch 12/50\n",
      "2709/2709 [==============================] - 14s 5ms/step - loss: 0.0035\n",
      "Epoch 13/50\n",
      "2709/2709 [==============================] - 13s 5ms/step - loss: 0.0034\n",
      "Epoch 14/50\n",
      "2709/2709 [==============================] - 14s 5ms/step - loss: 0.0031\n",
      "Epoch 15/50\n",
      "2709/2709 [==============================] - 14s 5ms/step - loss: 0.0030\n",
      "Epoch 16/50\n",
      "2709/2709 [==============================] - 14s 5ms/step - loss: 0.0027\n",
      "Epoch 17/50\n",
      "2709/2709 [==============================] - 14s 5ms/step - loss: 0.0027\n",
      "Epoch 18/50\n",
      "2709/2709 [==============================] - 14s 5ms/step - loss: 0.0027\n",
      "Epoch 19/50\n",
      "2709/2709 [==============================] - 14s 5ms/step - loss: 0.0026\n",
      "Epoch 20/50\n",
      "2709/2709 [==============================] - 14s 5ms/step - loss: 0.0025\n",
      "Epoch 21/50\n",
      "2709/2709 [==============================] - 14s 5ms/step - loss: 0.0024\n",
      "Epoch 22/50\n",
      "2709/2709 [==============================] - 14s 5ms/step - loss: 0.0024\n",
      "Epoch 23/50\n",
      "2709/2709 [==============================] - 14s 5ms/step - loss: 0.0021\n",
      "Epoch 24/50\n",
      "2709/2709 [==============================] - 14s 5ms/step - loss: 0.0024\n",
      "Epoch 25/50\n",
      "2709/2709 [==============================] - 14s 5ms/step - loss: 0.0022\n",
      "Epoch 26/50\n",
      "2709/2709 [==============================] - 14s 5ms/step - loss: 0.0023\n",
      "Epoch 27/50\n",
      "2709/2709 [==============================] - 14s 5ms/step - loss: 0.0021\n",
      "Epoch 28/50\n",
      "2709/2709 [==============================] - 14s 5ms/step - loss: 0.0020\n",
      "Epoch 29/50\n",
      "2709/2709 [==============================] - 14s 5ms/step - loss: 0.0020\n",
      "Epoch 30/50\n",
      "2709/2709 [==============================] - 14s 5ms/step - loss: 0.0020\n",
      "Epoch 31/50\n",
      "2709/2709 [==============================] - 14s 5ms/step - loss: 0.0020\n",
      "Epoch 32/50\n",
      "2709/2709 [==============================] - 15s 5ms/step - loss: 0.0018\n",
      "Epoch 33/50\n",
      "2709/2709 [==============================] - 14s 5ms/step - loss: 0.0018\n",
      "Epoch 34/50\n",
      "2709/2709 [==============================] - 14s 5ms/step - loss: 0.0018\n",
      "Epoch 35/50\n",
      "2709/2709 [==============================] - 14s 5ms/step - loss: 0.0018\n",
      "Epoch 36/50\n",
      "2709/2709 [==============================] - 14s 5ms/step - loss: 0.0018\n",
      "Epoch 37/50\n",
      "2709/2709 [==============================] - 14s 5ms/step - loss: 0.0018\n",
      "Epoch 38/50\n",
      "2709/2709 [==============================] - 15s 5ms/step - loss: 0.0017\n",
      "Epoch 39/50\n",
      "2709/2709 [==============================] - 15s 5ms/step - loss: 0.0017\n",
      "Epoch 40/50\n",
      "2709/2709 [==============================] - 14s 5ms/step - loss: 0.0017\n",
      "Epoch 41/50\n",
      "2709/2709 [==============================] - 14s 5ms/step - loss: 0.0015\n",
      "Epoch 42/50\n",
      "2709/2709 [==============================] - 13s 5ms/step - loss: 0.0016\n",
      "Epoch 43/50\n",
      "2709/2709 [==============================] - 14s 5ms/step - loss: 0.0015\n",
      "Epoch 44/50\n",
      "2709/2709 [==============================] - 14s 5ms/step - loss: 0.0016\n",
      "Epoch 45/50\n",
      "2709/2709 [==============================] - 14s 5ms/step - loss: 0.0016\n",
      "Epoch 46/50\n",
      "2709/2709 [==============================] - 14s 5ms/step - loss: 0.0016\n",
      "Epoch 47/50\n",
      "2709/2709 [==============================] - 14s 5ms/step - loss: 0.0014\n",
      "Epoch 48/50\n",
      "2709/2709 [==============================] - 14s 5ms/step - loss: 0.0015\n",
      "Epoch 49/50\n",
      "2709/2709 [==============================] - 14s 5ms/step - loss: 0.0015\n",
      "Epoch 50/50\n",
      "2709/2709 [==============================] - 14s 5ms/step - loss: 0.0014\n"
     ]
    },
    {
     "data": {
      "text/plain": [
       "<keras.callbacks.History at 0x127307198>"
      ]
     },
     "execution_count": 28,
     "metadata": {},
     "output_type": "execute_result"
    }
   ],
   "source": [
    "# The LSTM architecture\n",
    "regressor = Sequential()\n",
    "# First LSTM layer with Dropout regularisation\n",
    "regressor.add(LSTM(units=50, return_sequences=True, input_shape=(X_train.shape[1],1)))\n",
    "regressor.add(Dropout(0.2))\n",
    "# Second LSTM layer\n",
    "regressor.add(LSTM(units=50, return_sequences=True))\n",
    "regressor.add(Dropout(0.2))\n",
    "# Third LSTM layer\n",
    "regressor.add(LSTM(units=50, return_sequences=True))\n",
    "regressor.add(Dropout(0.2))\n",
    "# Fourth LSTM layer\n",
    "regressor.add(LSTM(units=50))\n",
    "regressor.add(Dropout(0.2))\n",
    "# The output layer\n",
    "regressor.add(Dense(units=1))\n",
    "\n",
    "# Compiling the RNN\n",
    "regressor.compile(optimizer='rmsprop',loss='mean_squared_error')\n",
    "# Fitting to the training set\n",
    "regressor.fit(X_train,y_train,epochs=50,batch_size=32)"
   ]
  },
  {
   "cell_type": "code",
   "execution_count": 29,
   "metadata": {},
   "outputs": [],
   "source": [
    "dataset_total = pd.concat((dataset[\"High\"][:'2016'],dataset[\"High\"]['2017':]),axis=0)"
   ]
  },
  {
   "cell_type": "code",
   "execution_count": 33,
   "metadata": {},
   "outputs": [],
   "source": [
    "inputs = dataset_total[len(dataset_total)-len(test_set) - 60:].values"
   ]
  },
  {
   "cell_type": "code",
   "execution_count": 36,
   "metadata": {},
   "outputs": [],
   "source": [
    "inputs = inputs.reshape(-1,1)\n",
    "inputs  = sc.transform(inputs)"
   ]
  },
  {
   "cell_type": "code",
   "execution_count": 37,
   "metadata": {},
   "outputs": [],
   "source": [
    "X_test = []\n",
    "for i in range(60,311):\n",
    "    X_test.append(inputs[i-60:i,0])\n",
    "X_test = np.array(X_test)\n",
    "X_test = np.reshape(X_test, (X_test.shape[0],X_test.shape[1],1))\n",
    "predicted_stock_price = regressor.predict(X_test)\n",
    "predicted_stock_price = sc.inverse_transform(predicted_stock_price)"
   ]
  },
  {
   "cell_type": "code",
   "execution_count": 38,
   "metadata": {},
   "outputs": [
    {
     "data": {
      "image/png": "[encoded data removed]",
      "text/plain": [
       "<Figure size 432x288 with 1 Axes>"
      ]
     },
     "metadata": {
      "needs_background": "light"
     },
     "output_type": "display_data"
    }
   ],
   "source": [
    "plot_predictions(test_set,predicted_stock_price)"
   ]
  },
  {
   "cell_type": "code",
   "execution_count": 39,
   "metadata": {},
   "outputs": [
    {
     "name": "stdout",
     "output_type": "stream",
     "text": [
      "The root mean squared error is 2.1720928042712653.\n"
     ]
    }
   ],
   "source": [
    "return_rmse(test_set,predicted_stock_price)"
   ]
  },
  {
   "cell_type": "code",
   "execution_count": 40,
   "metadata": {},
   "outputs": [
    {
     "name": "stdout",
     "output_type": "stream",
     "text": [
      "Epoch 1/50\n",
      "2709/2709 [==============================] - 6s 2ms/step - loss: 0.1553\n",
      "Epoch 2/50\n",
      "2709/2709 [==============================] - 4s 1ms/step - loss: 0.0586\n",
      "Epoch 3/50\n",
      "2709/2709 [==============================] - 4s 1ms/step - loss: 0.0280\n",
      "Epoch 4/50\n",
      "2709/2709 [==============================] - 4s 1ms/step - loss: 0.0062\n",
      "Epoch 5/50\n",
      "2709/2709 [==============================] - 4s 2ms/step - loss: 0.0043\n",
      "Epoch 6/50\n",
      "2709/2709 [==============================] - 4s 1ms/step - loss: 0.0038\n",
      "Epoch 7/50\n",
      "2709/2709 [==============================] - 4s 1ms/step - loss: 0.0035\n",
      "Epoch 8/50\n",
      "2709/2709 [==============================] - 4s 1ms/step - loss: 0.0032\n",
      "Epoch 9/50\n",
      "2709/2709 [==============================] - 4s 1ms/step - loss: 0.0034\n",
      "Epoch 10/50\n",
      "2709/2709 [==============================] - 4s 1ms/step - loss: 0.0031\n",
      "Epoch 11/50\n",
      "2709/2709 [==============================] - 4s 1ms/step - loss: 0.0032\n",
      "Epoch 12/50\n",
      "2709/2709 [==============================] - 4s 1ms/step - loss: 0.0030\n",
      "Epoch 13/50\n",
      "2709/2709 [==============================] - 4s 1ms/step - loss: 0.0029\n",
      "Epoch 14/50\n",
      "2709/2709 [==============================] - 4s 1ms/step - loss: 0.0029\n",
      "Epoch 15/50\n",
      "2709/2709 [==============================] - 4s 1ms/step - loss: 0.0029\n",
      "Epoch 16/50\n",
      "2709/2709 [==============================] - 4s 1ms/step - loss: 0.0028\n",
      "Epoch 17/50\n",
      "2709/2709 [==============================] - 4s 1ms/step - loss: 0.0028\n",
      "Epoch 18/50\n",
      "2709/2709 [==============================] - 4s 1ms/step - loss: 0.0026\n",
      "Epoch 19/50\n",
      "2709/2709 [==============================] - 4s 1ms/step - loss: 0.0027\n",
      "Epoch 20/50\n",
      "2709/2709 [==============================] - 4s 1ms/step - loss: 0.0028\n",
      "Epoch 21/50\n",
      "2709/2709 [==============================] - 4s 1ms/step - loss: 0.0025\n",
      "Epoch 22/50\n",
      "2709/2709 [==============================] - 4s 1ms/step - loss: 0.0024\n",
      "Epoch 23/50\n",
      "2709/2709 [==============================] - 4s 1ms/step - loss: 0.0026\n",
      "Epoch 24/50\n",
      "2709/2709 [==============================] - 4s 1ms/step - loss: 0.0025\n",
      "Epoch 25/50\n",
      "2709/2709 [==============================] - 4s 1ms/step - loss: 0.0024\n",
      "Epoch 26/50\n",
      "2709/2709 [==============================] - 4s 1ms/step - loss: 0.0023\n",
      "Epoch 27/50\n",
      "2709/2709 [==============================] - 4s 1ms/step - loss: 0.0024\n",
      "Epoch 28/50\n",
      "2709/2709 [==============================] - 4s 1ms/step - loss: 0.0024\n",
      "Epoch 29/50\n",
      "2709/2709 [==============================] - 4s 1ms/step - loss: 0.0024\n",
      "Epoch 30/50\n",
      "2709/2709 [==============================] - 4s 1ms/step - loss: 0.0023\n",
      "Epoch 31/50\n",
      "2709/2709 [==============================] - 4s 1ms/step - loss: 0.0022\n",
      "Epoch 32/50\n",
      "2709/2709 [==============================] - 4s 1ms/step - loss: 0.0021\n",
      "Epoch 33/50\n",
      "2709/2709 [==============================] - 4s 1ms/step - loss: 0.0023\n",
      "Epoch 34/50\n",
      "2709/2709 [==============================] - 4s 1ms/step - loss: 0.0022\n",
      "Epoch 35/50\n",
      "2709/2709 [==============================] - 4s 1ms/step - loss: 0.0022\n",
      "Epoch 36/50\n",
      "2709/2709 [==============================] - 4s 1ms/step - loss: 0.0021\n",
      "Epoch 37/50\n",
      "2709/2709 [==============================] - 4s 1ms/step - loss: 0.0022\n",
      "Epoch 38/50\n",
      "2709/2709 [==============================] - 4s 1ms/step - loss: 0.0023\n",
      "Epoch 39/50\n",
      "2709/2709 [==============================] - 4s 1ms/step - loss: 0.0021\n",
      "Epoch 40/50\n",
      "2709/2709 [==============================] - 4s 1ms/step - loss: 0.0022\n",
      "Epoch 41/50\n",
      "2709/2709 [==============================] - 4s 1ms/step - loss: 0.0023\n",
      "Epoch 42/50\n",
      "2709/2709 [==============================] - 4s 1ms/step - loss: 0.0022\n",
      "Epoch 43/50\n",
      "2709/2709 [==============================] - 4s 1ms/step - loss: 0.0022\n",
      "Epoch 44/50\n",
      "2709/2709 [==============================] - 4s 1ms/step - loss: 0.0022\n",
      "Epoch 45/50\n",
      "2709/2709 [==============================] - 4s 1ms/step - loss: 0.0020\n",
      "Epoch 46/50\n",
      "2709/2709 [==============================] - 4s 1ms/step - loss: 0.0022\n",
      "Epoch 47/50\n",
      "2709/2709 [==============================] - 4s 1ms/step - loss: 0.0021\n",
      "Epoch 48/50\n",
      "2709/2709 [==============================] - 4s 1ms/step - loss: 0.0022\n",
      "Epoch 49/50\n",
      "2709/2709 [==============================] - 4s 1ms/step - loss: 0.0021\n",
      "Epoch 50/50\n",
      "2709/2709 [==============================] - 4s 1ms/step - loss: 0.0019\n"
     ]
    },
    {
     "data": {
      "text/plain": [
       "<keras.callbacks.History at 0x12a1a4eb8>"
      ]
     },
     "execution_count": 40,
     "metadata": {},
     "output_type": "execute_result"
    }
   ],
   "source": [
    "regressorGRU = Sequential()\n",
    "# First GRU layer with Dropout regularisation\n",
    "regressorGRU.add(GRU(units=50, return_sequences=True, input_shape=(X_train.shape[1],1), activation='tanh'))\n",
    "regressorGRU.add(Dropout(0.2))\n",
    "# Second GRU layer\n",
    "regressorGRU.add(GRU(units=50, return_sequences=True, input_shape=(X_train.shape[1],1), activation='tanh'))\n",
    "regressorGRU.add(Dropout(0.2))\n",
    "# Third GRU layer\n",
    "regressorGRU.add(GRU(units=50, return_sequences=True, input_shape=(X_train.shape[1],1), activation='tanh'))\n",
    "regressorGRU.add(Dropout(0.2))\n",
    "# Fourth GRU layer\n",
    "regressorGRU.add(GRU(units=50, activation='tanh'))\n",
    "regressorGRU.add(Dropout(0.2))\n",
    "# The output layer\n",
    "regressorGRU.add(Dense(units=1))\n",
    "# Compiling the RNN\n",
    "regressorGRU.compile(optimizer=SGD(lr=0.01, decay=1e-7, momentum=0.9, nesterov=False),loss='mean_squared_error')\n",
    "# Fitting to the training set\n",
    "regressorGRU.fit(X_train,y_train,epochs=50,batch_size=150)"
   ]
  },
  {
   "cell_type": "code",
   "execution_count": 41,
   "metadata": {},
   "outputs": [],
   "source": [
    "X_test = []\n",
    "for i in range(60,311):\n",
    "    X_test.append(inputs[i-60:i,0])\n",
    "X_test = np.array(X_test)\n",
    "X_test = np.reshape(X_test, (X_test.shape[0],X_test.shape[1],1))\n",
    "GRU_predicted_stock_price = regressorGRU.predict(X_test)\n",
    "GRU_predicted_stock_price = sc.inverse_transform(GRU_predicted_stock_price)"
   ]
  },
  {
   "cell_type": "code",
   "execution_count": 42,
   "metadata": {},
   "outputs": [
    {
     "name": "stdout",
     "output_type": "stream",
     "text": [
      "The root mean squared error is 3.281989020555991.\n"
     ]
    }
   ],
   "source": [
    "return_rmse(test_set,GRU_predicted_stock_price)"
   ]
  },
  {
   "cell_type": "code",
   "execution_count": null,
   "metadata": {},
   "outputs": [],
   "source": []
  }
 ],
 "metadata": {
  "kernelspec": {
   "display_name": "Python 3",
   "language": "python",
   "name": "python3"
  },
  "language_info": {
   "codemirror_mode": {
    "name": "ipython",
    "version": 3
   },
   "file_extension": ".py",
   "mimetype": "text/x-python",
   "name": "python",
   "nbconvert_exporter": "python",
   "pygments_lexer": "ipython3",
   "version": "3.6.5"
  }
 },
 "nbformat": 4,
 "nbformat_minor": 2
}
